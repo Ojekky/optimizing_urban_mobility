{
 "cells": [
  {
   "cell_type": "code",
   "execution_count": 1,
   "id": "368a07c8-a168-4895-9167-6548af6e20e4",
   "metadata": {},
   "outputs": [],
   "source": [
    "import pyspark\n",
    "from pyspark.sql import SparkSession\n",
    "from pyspark.conf import SparkConf\n",
    "from pyspark.context import SparkContext"
   ]
  },
  {
   "cell_type": "code",
   "execution_count": 2,
   "id": "3efed26b-4ac7-4108-b4da-b54fc9887c13",
   "metadata": {},
   "outputs": [],
   "source": [
    "credentials_location = '/home/ojekky/.gc/my-creds.json'\n",
    "\n",
    "conf = SparkConf() \\\n",
    "    .setMaster('local[*]') \\\n",
    "    .setAppName('test') \\\n",
    "    .set(\"spark.jars\", \"/home/ojekky/data-engineering-zoomcamp/05-batch/code/lib/gcs-connector-hadoop2-2.2.5.jar\") \\\n",
    "    .set(\"spark.hadoop.google.cloud.auth.service.account.enable\", \"true\") \\\n",
    "    .set(\"spark.hadoop.google.cloud.auth.service.account.json.keyfile\", credentials_location)"
   ]
  },
  {
   "cell_type": "code",
   "execution_count": 3,
   "id": "1128d609-f57f-4c2a-b131-df61a8f2e136",
   "metadata": {},
   "outputs": [
    {
     "name": "stderr",
     "output_type": "stream",
     "text": [
      "25/04/12 10:05:36 WARN NativeCodeLoader: Unable to load native-hadoop library for your platform... using builtin-java classes where applicable\n",
      "Setting default log level to \"WARN\".\n",
      "To adjust logging level use sc.setLogLevel(newLevel). For SparkR, use setLogLevel(newLevel).\n"
     ]
    }
   ],
   "source": [
    "sc = SparkContext(conf=conf)\n",
    "\n",
    "hadoop_conf = sc._jsc.hadoopConfiguration()\n",
    "\n",
    "hadoop_conf.set(\"fs.AbstractFileSystem.gs.impl\",  \"com.google.cloud.hadoop.fs.gcs.GoogleHadoopFS\")\n",
    "hadoop_conf.set(\"fs.gs.impl\", \"com.google.cloud.hadoop.fs.gcs.GoogleHadoopFileSystem\")\n",
    "hadoop_conf.set(\"fs.gs.auth.service.account.json.keyfile\", credentials_location)\n",
    "hadoop_conf.set(\"fs.gs.auth.service.account.enable\", \"true\")"
   ]
  },
  {
   "cell_type": "code",
   "execution_count": 4,
   "id": "7b3e338d-61b2-4433-8c66-b9d370b6409f",
   "metadata": {},
   "outputs": [],
   "source": [
    "spark = SparkSession.builder \\\n",
    "    .config(conf=sc.getConf()) \\\n",
    "    .getOrCreate()"
   ]
  },
  {
   "cell_type": "code",
   "execution_count": 5,
   "id": "bad63801-c0fe-46ac-ae8c-5d59f359389e",
   "metadata": {},
   "outputs": [
    {
     "name": "stderr",
     "output_type": "stream",
     "text": [
      "                                                                                \r"
     ]
    }
   ],
   "source": [
    "df_lat = spark.read.parquet('gs://global-rookery-448215-m8_bike_data_raw/lat_bike_paq/*')\n",
    "\n",
    "df_old = spark.read.parquet('gs://global-rookery-448215-m8_bike_data_raw/old_bike_paq/*')"
   ]
  },
  {
   "cell_type": "code",
   "execution_count": 6,
   "id": "31503a49-a817-4fba-8bdc-5f402bd3a27f",
   "metadata": {},
   "outputs": [],
   "source": [
    "import pandas as pd"
   ]
  },
  {
   "cell_type": "code",
   "execution_count": 7,
   "id": "a9af5f35-a628-498e-b53c-fd099a892d92",
   "metadata": {},
   "outputs": [],
   "source": [
    "from pyspark.sql import functions as F"
   ]
  },
  {
   "cell_type": "code",
   "execution_count": 8,
   "id": "3da6dc63-1159-4570-8ddd-b16450cd66f8",
   "metadata": {},
   "outputs": [
    {
     "data": {
      "text/plain": [
       "[('ride_id', 'int'),\n",
       " ('rideable_type', 'int'),\n",
       " ('started_at', 'timestamp'),\n",
       " ('ended_at', 'timestamp'),\n",
       " ('start_station_name', 'string'),\n",
       " ('start_station_id', 'int'),\n",
       " ('end_station_name', 'string'),\n",
       " ('end_station_id', 'int'),\n",
       " ('start_lat', 'double'),\n",
       " ('start_lng', 'double'),\n",
       " ('end_lat', 'double'),\n",
       " ('end_lng', 'double'),\n",
       " ('member_casual', 'int')]"
      ]
     },
     "execution_count": 8,
     "metadata": {},
     "output_type": "execute_result"
    }
   ],
   "source": [
    "df_lat.dtypes"
   ]
  },
  {
   "cell_type": "code",
   "execution_count": 9,
   "id": "db93a8ca-f482-4ee8-85cd-6ab610e3e144",
   "metadata": {
    "scrolled": true
   },
   "outputs": [
    {
     "data": {
      "text/plain": [
       "[('Duration', 'bigint'),\n",
       " ('Start date', 'timestamp'),\n",
       " ('End date', 'timestamp'),\n",
       " ('Start station number', 'int'),\n",
       " ('Start station', 'string'),\n",
       " ('End station number', 'int'),\n",
       " ('End station', 'string'),\n",
       " ('Bike number', 'int'),\n",
       " ('Member type', 'int')]"
      ]
     },
     "execution_count": 9,
     "metadata": {},
     "output_type": "execute_result"
    }
   ],
   "source": [
    "df_old.dtypes"
   ]
  },
  {
   "cell_type": "code",
   "execution_count": 10,
   "id": "0bf0573b-5af3-4437-b388-07be687d65ab",
   "metadata": {},
   "outputs": [],
   "source": [
    "# Rename columns in the old dataset (2010-2020-03)\n",
    "df_old = df_old.withColumnRenamed('Start date', 'started_at') \\\n",
    "               .withColumnRenamed('End date', 'ended_at') \\\n",
    "               .withColumnRenamed('Start station number', 'start_station_id') \\\n",
    "               .withColumnRenamed('Start station', 'start_station_name') \\\n",
    "               .withColumnRenamed('End station number', 'end_station_id') \\\n",
    "               .withColumnRenamed('End station', 'end_station_name') \\\n",
    "               .withColumnRenamed('Member type', 'member_casual') \\\n",
    "               .withColumnRenamed('Bike number', 'ride_id') \\\n",
    "               .withColumnRenamed('Duration', 'trip_duration')"
   ]
  },
  {
   "cell_type": "code",
   "execution_count": 11,
   "id": "433cd924-9433-4e10-9735-ffe855e133e3",
   "metadata": {},
   "outputs": [],
   "source": [
    "# Add missing columns to the old dataset\n",
    "df_old = df_old.withColumn('rideable_type', F.lit(None).cast('int')) \\\n",
    "               .withColumn('start_lat', F.lit(None).cast('double')) \\\n",
    "               .withColumn('start_lng', F.lit(None).cast('double')) \\\n",
    "               .withColumn('end_lat', F.lit(None).cast('double')) \\\n",
    "               .withColumn('end_lng', F.lit(None).cast('double'))"
   ]
  },
  {
   "cell_type": "code",
   "execution_count": 13,
   "id": "a0c86b73-7cfe-432b-b5d5-cdc68aa23373",
   "metadata": {},
   "outputs": [],
   "source": [
    "# Add missing columns to the new dataset (2020-05-2025)\n",
    "df_lat = df_lat.withColumn('trip_duration', \n",
    "               F.unix_timestamp('ended_at') - F.unix_timestamp('started_at'))"
   ]
  },
  {
   "cell_type": "code",
   "execution_count": 14,
   "id": "d1d8a680-9bab-42ea-80b8-193b001f3dc8",
   "metadata": {},
   "outputs": [],
   "source": [
    "# Select common columns in the same order\n",
    "common_columns = [\n",
    "    'ride_id', 'rideable_type', 'started_at', 'ended_at', 'trip_duration',\n",
    "    'start_station_id', 'start_station_name', 'end_station_id', 'end_station_name',\n",
    "    'member_casual', 'start_lat', 'start_lng', 'end_lat', 'end_lng'\n",
    "]\n",
    "\n",
    "# Union the datasets\n",
    "combined_df = df_old.select(common_columns).unionByName(df_lat.select(common_columns))"
   ]
  },
  {
   "cell_type": "code",
   "execution_count": 16,
   "id": "d9555538-480e-46d4-8062-74e444d6866c",
   "metadata": {},
   "outputs": [
    {
     "data": {
      "text/plain": [
       "[('ride_id', 'int'),\n",
       " ('rideable_type', 'int'),\n",
       " ('started_at', 'timestamp'),\n",
       " ('ended_at', 'timestamp'),\n",
       " ('trip_duration', 'bigint'),\n",
       " ('start_station_id', 'int'),\n",
       " ('start_station_name', 'string'),\n",
       " ('end_station_id', 'int'),\n",
       " ('end_station_name', 'string'),\n",
       " ('member_casual', 'int'),\n",
       " ('start_lat', 'double'),\n",
       " ('start_lng', 'double'),\n",
       " ('end_lat', 'double'),\n",
       " ('end_lng', 'double')]"
      ]
     },
     "execution_count": 16,
     "metadata": {},
     "output_type": "execute_result"
    }
   ],
   "source": [
    "combined_df.dtypes"
   ]
  },
  {
   "cell_type": "code",
   "execution_count": 17,
   "id": "2e3de248-7b2e-467f-a80a-90998cd4a555",
   "metadata": {},
   "outputs": [
    {
     "name": "stderr",
     "output_type": "stream",
     "text": [
      "                                                                                \r"
     ]
    }
   ],
   "source": [
    "combined_df \\\n",
    "    .repartition(1) \\\n",
    "    .write.parquet('gs://global-rookery-448215-m8_bike_data_raw/full_raw_paq', mode='overwrite')"
   ]
  }
 ],
 "metadata": {
  "kernelspec": {
   "display_name": "Python 3 (ipykernel)",
   "language": "python",
   "name": "python3"
  },
  "language_info": {
   "codemirror_mode": {
    "name": "ipython",
    "version": 3
   },
   "file_extension": ".py",
   "mimetype": "text/x-python",
   "name": "python",
   "nbconvert_exporter": "python",
   "pygments_lexer": "ipython3",
   "version": "3.12.2"
  }
 },
 "nbformat": 4,
 "nbformat_minor": 5
}
