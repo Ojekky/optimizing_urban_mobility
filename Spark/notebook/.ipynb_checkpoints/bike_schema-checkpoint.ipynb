{
 "cells": [
  {
   "cell_type": "code",
   "execution_count": 3,
   "id": "f447c0d9-c499-4b27-91e0-07ba20110c22",
   "metadata": {},
   "outputs": [],
   "source": [
    "import pyspark\n",
    "from pyspark.sql import SparkSession\n",
    "from pyspark.conf import SparkConf\n",
    "from pyspark.context import SparkContext"
   ]
  },
  {
   "cell_type": "code",
   "execution_count": 4,
   "id": "1323ef2c-b617-4a9a-916b-608d7e4726a9",
   "metadata": {},
   "outputs": [],
   "source": [
    "credentials_location = '/home/ojekky/.gc/my-creds.json'\n",
    "\n",
    "conf = SparkConf() \\\n",
    "    .setMaster('local[*]') \\\n",
    "    .setAppName('test') \\\n",
    "    .set(\"spark.jars\", \"/home/ojekky/data-engineering-zoomcamp/05-batch/code/lib/gcs-connector-hadoop2-2.2.5.jar\") \\\n",
    "    .set(\"spark.hadoop.google.cloud.auth.service.account.enable\", \"true\") \\\n",
    "    .set(\"spark.hadoop.google.cloud.auth.service.account.json.keyfile\", credentials_location)"
   ]
  },
  {
   "cell_type": "code",
   "execution_count": 5,
   "id": "7149bc81-5cbd-4483-a853-a73c04ed638c",
   "metadata": {},
   "outputs": [
    {
     "name": "stderr",
     "output_type": "stream",
     "text": [
      "25/04/11 21:10:51 WARN NativeCodeLoader: Unable to load native-hadoop library for your platform... using builtin-java classes where applicable\n",
      "Setting default log level to \"WARN\".\n",
      "To adjust logging level use sc.setLogLevel(newLevel). For SparkR, use setLogLevel(newLevel).\n"
     ]
    }
   ],
   "source": [
    "sc = SparkContext(conf=conf)\n",
    "\n",
    "hadoop_conf = sc._jsc.hadoopConfiguration()\n",
    "\n",
    "hadoop_conf.set(\"fs.AbstractFileSystem.gs.impl\",  \"com.google.cloud.hadoop.fs.gcs.GoogleHadoopFS\")\n",
    "hadoop_conf.set(\"fs.gs.impl\", \"com.google.cloud.hadoop.fs.gcs.GoogleHadoopFileSystem\")\n",
    "hadoop_conf.set(\"fs.gs.auth.service.account.json.keyfile\", credentials_location)\n",
    "hadoop_conf.set(\"fs.gs.auth.service.account.enable\", \"true\")"
   ]
  },
  {
   "cell_type": "code",
   "execution_count": 6,
   "id": "e833dc52-4091-4a50-88fc-7a2979565214",
   "metadata": {},
   "outputs": [],
   "source": [
    "spark = SparkSession.builder \\\n",
    "    .config(conf=sc.getConf()) \\\n",
    "    .getOrCreate()"
   ]
  },
  {
   "cell_type": "code",
   "execution_count": 7,
   "id": "ced9e8c7-1798-4bca-9398-95d9872aefbd",
   "metadata": {},
   "outputs": [
    {
     "name": "stdout",
     "output_type": "stream",
     "text": [
      "--2025-04-11 21:14:23--  https://s3.amazonaws.com/capitalbikeshare-data/201801-capitalbikeshare-tripdata.zip\n",
      "Resolving s3.amazonaws.com (s3.amazonaws.com)... 52.217.227.56, 16.182.38.40, 52.216.216.48, ...\n",
      "Connecting to s3.amazonaws.com (s3.amazonaws.com)|52.217.227.56|:443... connected.\n",
      "HTTP request sent, awaiting response... 200 OK\n",
      "Length: 3870111 (3.7M) [application/zip]\n",
      "Saving to: ‘201801-capitalbikeshare-tripdata.zip’\n",
      "\n",
      "201801-capitalbikes 100%[===================>]   3.69M  6.54MB/s    in 0.6s    \n",
      "\n",
      "2025-04-11 21:14:24 (6.54 MB/s) - ‘201801-capitalbikeshare-tripdata.zip’ saved [3870111/3870111]\n",
      "\n"
     ]
    }
   ],
   "source": [
    "!wget https://s3.amazonaws.com/capitalbikeshare-data/201801-capitalbikeshare-tripdata.zip"
   ]
  },
  {
   "cell_type": "code",
   "execution_count": 8,
   "id": "4387c2b6-461c-4592-ab25-abb0480d132c",
   "metadata": {},
   "outputs": [
    {
     "name": "stdout",
     "output_type": "stream",
     "text": [
      "--2025-04-11 21:14:51--  https://s3.amazonaws.com/capitalbikeshare-data/202412-capitalbikeshare-tripdata.zip\n",
      "Resolving s3.amazonaws.com (s3.amazonaws.com)... 16.15.184.20, 52.216.249.166, 52.216.113.237, ...\n",
      "Connecting to s3.amazonaws.com (s3.amazonaws.com)|16.15.184.20|:443... connected.\n",
      "HTTP request sent, awaiting response... 200 OK\n",
      "Length: 14865654 (14M) [application/zip]\n",
      "Saving to: ‘202412-capitalbikeshare-tripdata.zip’\n",
      "\n",
      "202412-capitalbikes 100%[===================>]  14.18M  15.5MB/s    in 0.9s    \n",
      "\n",
      "2025-04-11 21:14:52 (15.5 MB/s) - ‘202412-capitalbikeshare-tripdata.zip’ saved [14865654/14865654]\n",
      "\n"
     ]
    }
   ],
   "source": [
    "!wget https://s3.amazonaws.com/capitalbikeshare-data/202412-capitalbikeshare-tripdata.zip"
   ]
  },
  {
   "cell_type": "code",
   "execution_count": 12,
   "id": "e418821b-b43f-4989-b8ca-e53cca07644a",
   "metadata": {},
   "outputs": [
    {
     "name": "stderr",
     "output_type": "stream",
     "text": [
      "                                                                                \r"
     ]
    }
   ],
   "source": [
    "door = spark.read \\\n",
    "    .option(\"header\", \"true\") \\\n",
    "    .csv('201801_capitalbikeshare_tripdata.csv')"
   ]
  },
  {
   "cell_type": "code",
   "execution_count": 13,
   "id": "74be8e2c-602b-4f07-99c3-18185cc5b95f",
   "metadata": {},
   "outputs": [],
   "source": [
    "dor = !head -n 10 201801_capitalbikeshare_tripdata.csv"
   ]
  },
  {
   "cell_type": "code",
   "execution_count": 14,
   "id": "dd64206b-486a-407d-b879-379c4698c2dc",
   "metadata": {},
   "outputs": [],
   "source": [
    "dur = !head -n 10 202412-capitalbikeshare-tripdata.csv"
   ]
  },
  {
   "cell_type": "code",
   "execution_count": 17,
   "id": "638b7da3-3307-47a7-9905-1b0ccbbff052",
   "metadata": {},
   "outputs": [
    {
     "data": {
      "text/plain": [
       "['\"Duration\",\"Start date\",\"End date\",\"Start station number\",\"Start station\",\"End station number\",\"End station\",\"Bike number\",\"Member type\"',\n",
       " '552,\"2018-01-01 00:05:06\",\"2018-01-01 00:14:18\",31104,\"Adams Mill & Columbia Rd NW\",31400,\"Georgia & New Hampshire Ave NW\",\"W00886\",\"Member\"',\n",
       " '1282,\"2018-01-01 00:14:30\",\"2018-01-01 00:35:53\",31321,\"15th St & Constitution Ave NW\",31321,\"15th St & Constitution Ave NW\",\"W01435\",\"Casual\"',\n",
       " '1265,\"2018-01-01 00:14:53\",\"2018-01-01 00:35:58\",31321,\"15th St & Constitution Ave NW\",31321,\"15th St & Constitution Ave NW\",\"W21242\",\"Casual\"',\n",
       " '578,\"2018-01-01 00:15:31\",\"2018-01-01 00:25:09\",31406,\"14th & Upshur St NW\",31103,\"16th & Harvard St NW\",\"W21322\",\"Casual\"',\n",
       " '372,\"2018-01-01 00:18:02\",\"2018-01-01 00:24:15\",31618,\"4th & East Capitol St NE\",31619,\"Lincoln Park / 13th & East Capitol St NE \",\"W00119\",\"Member\"',\n",
       " '369,\"2018-01-01 00:18:07\",\"2018-01-01 00:24:17\",31618,\"4th & East Capitol St NE\",31619,\"Lincoln Park / 13th & East Capitol St NE \",\"W21076\",\"Member\"',\n",
       " '486,\"2018-01-01 00:19:07\",\"2018-01-01 00:27:14\",31042,\"Market Square / King St & Royal St\",31098,\"King St Metro North / Cameron St\",\"W21048\",\"Member\"',\n",
       " '1615,\"2018-01-01 00:21:55\",\"2018-01-01 00:48:50\",31042,\"Market Square / King St & Royal St\",31045,\"Commerce St & Fayette St\",\"W21512\",\"Member\"',\n",
       " '1598,\"2018-01-01 00:22:02\",\"2018-01-01 00:48:41\",31042,\"Market Square / King St & Royal St\",31045,\"Commerce St & Fayette St\",\"W23278\",\"Member\"']"
      ]
     },
     "execution_count": 17,
     "metadata": {},
     "output_type": "execute_result"
    }
   ],
   "source": [
    "dor"
   ]
  },
  {
   "cell_type": "code",
   "execution_count": 18,
   "id": "ae720528-108e-4b34-997b-a36086be2de9",
   "metadata": {},
   "outputs": [
    {
     "data": {
      "text/plain": [
       "['\"ride_id\",\"rideable_type\",\"started_at\",\"ended_at\",\"start_station_name\",\"start_station_id\",\"end_station_name\",\"end_station_id\",\"start_lat\",\"start_lng\",\"end_lat\",\"end_lng\",\"member_casual\"',\n",
       " '\"30BF1BA07E61B962\",\"electric_bike\",\"2024-12-19 15:00:37.692\",\"2024-12-19 15:06:27.690\",,,,,38.93,-77.04,38.92,-77.03,\"member\"',\n",
       " '\"9990ACCC341A77E1\",\"electric_bike\",\"2024-12-19 15:10:30.222\",\"2024-12-19 15:15:33.420\",,,,,38.89,-77.09,38.89,-77.09,\"member\"',\n",
       " '\"B676007C128ED93B\",\"electric_bike\",\"2024-12-19 15:41:54.507\",\"2024-12-19 16:07:07.430\",,,,,38.92,-77.0,38.98,-77.0,\"member\"',\n",
       " '\"75B0EED9CAB23C5B\",\"electric_bike\",\"2024-12-18 20:39:43.412\",\"2024-12-18 20:48:04.109\",,,,,38.86,-77.11,38.86,-77.12,\"member\"',\n",
       " '\"2774271B0FC6690F\",\"electric_bike\",\"2024-12-18 19:37:46.065\",\"2024-12-18 19:40:37.214\",,,,,38.86,-77.11,38.86,-77.11,\"member\"',\n",
       " '\"7CFB12BCF8F83D9E\",\"electric_bike\",\"2024-12-15 09:09:08.302\",\"2024-12-15 09:16:44.017\",,,,,38.93,-77.03,38.91,-77.03,\"member\"',\n",
       " '\"3718BC0A1213FBCB\",\"electric_bike\",\"2024-12-15 09:02:26.637\",\"2024-12-15 09:06:15.930\",,,,,38.94,-77.03,38.93,-77.03,\"member\"',\n",
       " '\"D288340B24216266\",\"electric_bike\",\"2024-12-15 08:20:23.121\",\"2024-12-15 08:27:40.887\",,,,,38.95,-76.99,38.95,-77.0,\"member\"',\n",
       " '\"ED7E2DC4BB6272CF\",\"electric_bike\",\"2024-12-15 00:16:46.615\",\"2024-12-15 00:17:13.840\",,,,,38.91,-77.03,38.91,-77.03,\"member\"']"
      ]
     },
     "execution_count": 18,
     "metadata": {},
     "output_type": "execute_result"
    }
   ],
   "source": [
    "dur"
   ]
  },
  {
   "cell_type": "code",
   "execution_count": 21,
   "id": "7c6a3cac-b15c-435e-a1f4-c0cae2a2da1c",
   "metadata": {},
   "outputs": [
    {
     "name": "stderr",
     "output_type": "stream",
     "text": [
      "                                                                                \r"
     ]
    }
   ],
   "source": [
    "df_recent = spark.read.csv(\n",
    "    [\n",
    "        \"gs://global-rookery-448215-m8_bike_data_raw/capitalbikeshare/202[1-5]/*\",\n",
    "        \"gs://global-rookery-448215-m8_bike_data_raw/capitalbikeshare/2020/202005-capitalbikeshare-tripdata.csv\",\n",
    "        \"gs://global-rookery-448215-m8_bike_data_raw/capitalbikeshare/2020/202006-capitalbikeshare-tripdata.csv\",\n",
    "        \"gs://global-rookery-448215-m8_bike_data_raw/capitalbikeshare/2020/202007-capitalbikeshare-tripdata.csv\",\n",
    "        \"gs://global-rookery-448215-m8_bike_data_raw/capitalbikeshare/2020/202008-capitalbikeshare-tripdata.csv\",\n",
    "        \"gs://global-rookery-448215-m8_bike_data_raw/capitalbikeshare/2020/202009-capitalbikeshare-tripdata.csv\",\n",
    "        \"gs://global-rookery-448215-m8_bike_data_raw/capitalbikeshare/2020/202010-capitalbikeshare-tripdata.csv\"\n",
    "    ], \n",
    "    header=True, \n",
    "    inferSchema=True\n",
    ")"
   ]
  },
  {
   "cell_type": "code",
   "execution_count": 22,
   "id": "54938f8a-49c7-454a-923b-e47e2728ccef",
   "metadata": {},
   "outputs": [
    {
     "name": "stderr",
     "output_type": "stream",
     "text": [
      "                                                                                \r"
     ]
    }
   ],
   "source": [
    "df_old = spark.read.csv(\n",
    "    [\n",
    "        \"gs://global-rookery-448215-m8_bike_data_raw/capitalbikeshare/201[0-9]/*\",\n",
    "        \"gs://global-rookery-448215-m8_bike_data_raw/capitalbikeshare/2020/202001-capitalbikeshare-tripdata.csv\",\n",
    "        \"gs://global-rookery-448215-m8_bike_data_raw/capitalbikeshare/2020/202002-capitalbikeshare-tripdata.csv\",\n",
    "        \"gs://global-rookery-448215-m8_bike_data_raw/capitalbikeshare/2020/202003-capitalbikeshare-tripdata.csv\"\n",
    "    ], \n",
    "    header=True, \n",
    "    inferSchema=True\n",
    ")"
   ]
  },
  {
   "cell_type": "code",
   "execution_count": 23,
   "id": "205c1f07-004d-435c-95cd-04140400796b",
   "metadata": {},
   "outputs": [],
   "source": [
    "import pandas as pd"
   ]
  },
  {
   "cell_type": "code",
   "execution_count": 24,
   "id": "f59355dd-511b-407f-9bb8-6dd09c85a3d1",
   "metadata": {},
   "outputs": [
    {
     "name": "stderr",
     "output_type": "stream",
     "text": [
      "                                                                                \r"
     ]
    }
   ],
   "source": [
    "df_env = df_recent.head(100)"
   ]
  },
  {
   "cell_type": "code",
   "execution_count": 25,
   "id": "a0595bce-702e-4457-b391-1c53f5dccdf6",
   "metadata": {},
   "outputs": [
    {
     "data": {
      "text/plain": [
       "StructType([StructField('ride_id', StringType(), True), StructField('rideable_type', StringType(), True), StructField('started_at', StringType(), True), StructField('ended_at', StringType(), True), StructField('start_station_name', StringType(), True), StructField('start_station_id', StringType(), True), StructField('end_station_name', StringType(), True), StructField('end_station_id', StringType(), True), StructField('start_lat', StringType(), True), StructField('start_lng', StringType(), True), StructField('end_lat', StringType(), True), StructField('end_lng', StringType(), True), StructField('member_casual', StringType(), True)])"
      ]
     },
     "execution_count": 25,
     "metadata": {},
     "output_type": "execute_result"
    }
   ],
   "source": [
    "spark.createDataFrame(df_env).schema"
   ]
  },
  {
   "cell_type": "code",
   "execution_count": 28,
   "id": "db242fb5-f083-40a1-987c-d95d7e04bca9",
   "metadata": {},
   "outputs": [],
   "source": [
    "df_eno = df_old.head(100)"
   ]
  },
  {
   "cell_type": "code",
   "execution_count": 29,
   "id": "5d50860f-ba56-4995-94a1-3074b90679b0",
   "metadata": {},
   "outputs": [
    {
     "data": {
      "text/plain": [
       "StructType([StructField('Duration', LongType(), True), StructField('Start date', TimestampType(), True), StructField('End date', TimestampType(), True), StructField('Start station number', LongType(), True), StructField('Start station', StringType(), True), StructField('End station number', LongType(), True), StructField('End station', StringType(), True), StructField('Bike number', StringType(), True), StructField('Member type', StringType(), True)])"
      ]
     },
     "execution_count": 29,
     "metadata": {},
     "output_type": "execute_result"
    }
   ],
   "source": [
    "spark.createDataFrame(df_eno).schema"
   ]
  },
  {
   "cell_type": "code",
   "execution_count": 26,
   "id": "d47d6f34-4a9f-41bb-b988-fe5b1cff0f5a",
   "metadata": {},
   "outputs": [],
   "source": [
    "from pyspark.sql import types"
   ]
  },
  {
   "cell_type": "code",
   "execution_count": 30,
   "id": "ff245497-c82d-4326-90b8-c30426937a86",
   "metadata": {},
   "outputs": [],
   "source": [
    "df_env_schema = types.StructType([\n",
    "    types.StructField('ride_id', types.IntegerType(), True), \n",
    "    types.StructField('rideable_type', types.IntegerType(), True), \n",
    "    types.StructField('started_at', types.TimestampType(), True), \n",
    "    types.StructField('ended_at', types.TimestampType(), True), \n",
    "    types.StructField('start_station_name', types.StringType(), True), \n",
    "    types.StructField('start_station_id', types.IntegerType(), True), \n",
    "    types.StructField('end_station_name', types.StringType(), True), \n",
    "    types.StructField('end_station_id', types.IntegerType(), True), \n",
    "    types.StructField('start_lat', types.DoubleType(), True), \n",
    "    types.StructField('start_lng', types.DoubleType(), True), \n",
    "    types.StructField('end_lat', types.DoubleType(), True), \n",
    "    types.StructField('end_lng', types.DoubleType(), True), \n",
    "    types.StructField('member_casual', types.IntegerType(), True)\n",
    "])\n",
    "\n",
    "df_eno_schema = types.StructType([\n",
    "    types.StructField('Duration', types.LongType(), True), \n",
    "    types.StructField('Start date', types.TimestampType(), True), \n",
    "    types.StructField('End date', types.TimestampType(), True), \n",
    "    types.StructField('Start station number', types.IntegerType(), True), \n",
    "    types.StructField('Start station', types.StringType(), True), \n",
    "    types.StructField('End station number', types.IntegerType(), True), \n",
    "    types.StructField('End station', types.StringType(), True), \n",
    "    types.StructField('Bike number', types.IntegerType(), True), \n",
    "    types.StructField('Member type', types.IntegerType(), True)\n",
    "])"
   ]
  },
  {
   "cell_type": "code",
   "execution_count": 31,
   "id": "c55aa1a0-4a98-4374-9faa-15b18c34e809",
   "metadata": {},
   "outputs": [
    {
     "name": "stderr",
     "output_type": "stream",
     "text": [
      "                                                                                \r"
     ]
    },
    {
     "name": "stdout",
     "output_type": "stream",
     "text": [
      "root\n",
      " |-- ride_id: integer (nullable = true)\n",
      " |-- rideable_type: integer (nullable = true)\n",
      " |-- started_at: timestamp (nullable = true)\n",
      " |-- ended_at: timestamp (nullable = true)\n",
      " |-- start_station_name: string (nullable = true)\n",
      " |-- start_station_id: integer (nullable = true)\n",
      " |-- end_station_name: string (nullable = true)\n",
      " |-- end_station_id: integer (nullable = true)\n",
      " |-- start_lat: double (nullable = true)\n",
      " |-- start_lng: double (nullable = true)\n",
      " |-- end_lat: double (nullable = true)\n",
      " |-- end_lng: double (nullable = true)\n",
      " |-- member_casual: integer (nullable = true)\n",
      "\n",
      "Number of partitions: 38\n"
     ]
    },
    {
     "name": "stderr",
     "output_type": "stream",
     "text": [
      "[Stage 15:======================================================> (37 + 1) / 38]\r"
     ]
    },
    {
     "name": "stdout",
     "output_type": "stream",
     "text": [
      "Total records: 19412400\n"
     ]
    },
    {
     "name": "stderr",
     "output_type": "stream",
     "text": [
      "                                                                                \r"
     ]
    }
   ],
   "source": [
    "df_recent = spark.read.csv(\n",
    "    [\n",
    "        \"gs://global-rookery-448215-m8_bike_data_raw/capitalbikeshare/202[1-5]/*\",\n",
    "        \"gs://global-rookery-448215-m8_bike_data_raw/capitalbikeshare/2020/202005-capitalbikeshare-tripdata.csv\",\n",
    "        \"gs://global-rookery-448215-m8_bike_data_raw/capitalbikeshare/2020/202006-capitalbikeshare-tripdata.csv\",\n",
    "        \"gs://global-rookery-448215-m8_bike_data_raw/capitalbikeshare/2020/202007-capitalbikeshare-tripdata.csv\",\n",
    "        \"gs://global-rookery-448215-m8_bike_data_raw/capitalbikeshare/2020/202008-capitalbikeshare-tripdata.csv\",\n",
    "        \"gs://global-rookery-448215-m8_bike_data_raw/capitalbikeshare/2020/202009-capitalbikeshare-tripdata.csv\",\n",
    "        \"gs://global-rookery-448215-m8_bike_data_raw/capitalbikeshare/2020/202010-capitalbikeshare-tripdata.csv\"\n",
    "    ], \n",
    "    header = True, \n",
    "    schema = df_env_schema,\n",
    "    escape='\"',\n",
    "    nullValue=\"null\"\n",
    ")\n",
    "\n",
    "df_recent \\\n",
    "    .repartition(1) \\\n",
    "    .write.parquet(\"gs://global-rookery-448215-m8_bike_data_raw/lat_bike_paq\")\n",
    "\n",
    "df_recent.printSchema()\n",
    "print(f\"Number of partitions: {df_recent.rdd.getNumPartitions()}\")\n",
    "print(f\"Total records: {df_recent.count()}\")\n"
   ]
  },
  {
   "cell_type": "code",
   "execution_count": null,
   "id": "4db9a8b1-5708-4933-9b66-71c5b7745a89",
   "metadata": {},
   "outputs": [],
   "source": [
    "df_old = spark.read.csv(\n",
    "    [\n",
    "        \"gs://global-rookery-448215-m8_bike_data_raw/capitalbikeshare/201[0-9]/*\",\n",
    "        \"gs://global-rookery-448215-m8_bike_data_raw/capitalbikeshare/2020/202001-capitalbikeshare-tripdata.csv\",\n",
    "        \"gs://global-rookery-448215-m8_bike_data_raw/capitalbikeshare/2020/202002-capitalbikeshare-tripdata.csv\",\n",
    "        \"gs://global-rookery-448215-m8_bike_data_raw/capitalbikeshare/2020/202003-capitalbikeshare-tripdata.csv\"\n",
    "    ], \n",
    "    header = True, \n",
    "    schema = df_eno_schema,\n",
    "    escape='\"',\n",
    "    nullValue=\"null\"\n",
    ")\n",
    "\n",
    "df_old \\\n",
    "    .repartition(1) \\\n",
    "    .write.parquet(\"gs://global-rookery-448215-m8_bike_data_raw/old_bike_paq\")\n",
    "\n",
    "df_old.printSchema()\n",
    "print(f\"Number of partitions: {df_old.rdd.getNumPartitions()}\")\n",
    "print(f\"Total records: {df_old.count()}\")"
   ]
  }
 ],
 "metadata": {
  "kernelspec": {
   "display_name": "Python 3 (ipykernel)",
   "language": "python",
   "name": "python3"
  },
  "language_info": {
   "codemirror_mode": {
    "name": "ipython",
    "version": 3
   },
   "file_extension": ".py",
   "mimetype": "text/x-python",
   "name": "python",
   "nbconvert_exporter": "python",
   "pygments_lexer": "ipython3",
   "version": "3.12.2"
  }
 },
 "nbformat": 4,
 "nbformat_minor": 5
}
